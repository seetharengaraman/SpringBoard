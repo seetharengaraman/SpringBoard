{
 "cells": [
  {
   "cell_type": "markdown",
   "metadata": {
    "deletable": true,
    "editable": true
   },
   "source": [
    "# Spark DataFrames Project Exercise "
   ]
  },
  {
   "cell_type": "markdown",
   "metadata": {
    "deletable": true,
    "editable": true
   },
   "source": [
    "Let's get some quick practice with your new Spark DataFrame skills, you will be asked some basic questions about some stock market data, in this case Walmart Stock from the years 2012-2017. This exercise will just ask a bunch of questions, unlike the future machine learning exercises, which will be a little looser and be in the form of \"Consulting Projects\", but more on that later!\n",
    "\n",
    "For now, just answer the questions and complete the tasks below."
   ]
  },
  {
   "cell_type": "markdown",
   "metadata": {
    "deletable": true,
    "editable": true
   },
   "source": [
    "#### Use the walmart_stock.csv file to Answer and complete the  tasks below!"
   ]
  },
  {
   "cell_type": "markdown",
   "metadata": {
    "deletable": true,
    "editable": true
   },
   "source": [
    "#### Start a simple Spark Session"
   ]
  },
  {
   "cell_type": "code",
   "execution_count": 1,
   "metadata": {
    "cell_status": {
     "execute_time": {
      "duration": 400.56494140625,
      "end_time": 1666736991640.724
     }
    },
    "collapsed": false,
    "deletable": true,
    "editable": true
   },
   "outputs": [
    {
     "name": "stdout",
     "output_type": "stream",
     "text": [
      "Starting Spark application\n"
     ]
    },
    {
     "data": {
      "text/html": [
       "<table>\n",
       "<tr><th>ID</th><th>YARN Application ID</th><th>Kind</th><th>State</th><th>Spark UI</th><th>Driver log</th><th>Current session?</th></tr><tr><td>0</td><td>application_1666734571482_0005</td><td>pyspark3</td><td>idle</td><td><a target=\"_blank\" href=\"http://hn1-sparkh.aqao2c0b4zeuflcmd5frzazt1d.gvxx.internal.cloudapp.net:8088/proxy/application_1666734571482_0005/\">Link</a></td><td><a target=\"_blank\" href=\"http://wn3-sparkh.aqao2c0b4zeuflcmd5frzazt1d.gvxx.internal.cloudapp.net:30060/node/containerlogs/container_1666734571482_0005_01_000001/livy\">Link</a></td><td>✔</td></tr></table>"
      ],
      "text/plain": [
       "<IPython.core.display.HTML object>"
      ]
     },
     "metadata": {},
     "output_type": "display_data"
    },
    {
     "name": "stdout",
     "output_type": "stream",
     "text": [
      "SparkSession available as 'spark'.\n"
     ]
    }
   ],
   "source": [
    "from pyspark.sql import SparkSession\n"
   ]
  },
  {
   "cell_type": "code",
   "execution_count": 2,
   "metadata": {
    "cell_status": {
     "execute_time": {
      "duration": 3711.859130859375,
      "end_time": 1666737082832.898
     }
    },
    "collapsed": true
   },
   "outputs": [],
   "source": [
    "spark = SparkSession.builder.appName('SparkHDInsightExample').getOrCreate()"
   ]
  },
  {
   "cell_type": "code",
   "execution_count": 3,
   "metadata": {
    "cell_status": {
     "execute_time": {
      "duration": 793.60498046875,
      "end_time": 1666737199333.395
     }
    },
    "collapsed": true
   },
   "outputs": [],
   "source": [
    "from pyspark.sql.functions import *\n",
    "from pyspark.sql.types import *"
   ]
  },
  {
   "cell_type": "markdown",
   "metadata": {
    "deletable": true,
    "editable": true
   },
   "source": [
    "#### Load the Walmart Stock CSV File, have Spark infer the data types."
   ]
  },
  {
   "cell_type": "code",
   "execution_count": 113,
   "metadata": {
    "cell_status": {
     "execute_time": {
      "duration": 2506.35302734375,
      "end_time": 1666744291033.581
     }
    },
    "collapsed": false,
    "deletable": true,
    "editable": true
   },
   "outputs": [],
   "source": [
    "df = spark.read.options(inferSchema='True',header=True).csv(\"wasb:///HdiNotebooks/walmart_stock.csv\")"
   ]
  },
  {
   "cell_type": "markdown",
   "metadata": {
    "deletable": true,
    "editable": true
   },
   "source": [
    "#### What are the column names?"
   ]
  },
  {
   "cell_type": "code",
   "execution_count": 11,
   "metadata": {
    "cell_status": {
     "execute_time": {
      "duration": 82.37890625,
      "end_time": 1666737801338.385
     }
    },
    "collapsed": false,
    "deletable": true,
    "editable": true
   },
   "outputs": [
    {
     "name": "stdout",
     "output_type": "stream",
     "text": [
      "['Date', 'Open', 'High', 'Low', 'Close', 'Volume', 'Adj Close']"
     ]
    }
   ],
   "source": [
    "df.columns"
   ]
  },
  {
   "cell_type": "markdown",
   "metadata": {
    "deletable": true,
    "editable": true
   },
   "source": [
    "#### What does the Schema look like?"
   ]
  },
  {
   "cell_type": "code",
   "execution_count": 12,
   "metadata": {
    "cell_status": {
     "execute_time": {
      "duration": 128.347900390625,
      "end_time": 1666737804558.781
     }
    },
    "collapsed": false,
    "deletable": true,
    "editable": true
   },
   "outputs": [
    {
     "name": "stdout",
     "output_type": "stream",
     "text": [
      "root\n",
      " |-- Date: string (nullable = true)\n",
      " |-- Open: double (nullable = true)\n",
      " |-- High: double (nullable = true)\n",
      " |-- Low: double (nullable = true)\n",
      " |-- Close: double (nullable = true)\n",
      " |-- Volume: integer (nullable = true)\n",
      " |-- Adj Close: double (nullable = true)"
     ]
    }
   ],
   "source": [
    "df.printSchema()"
   ]
  },
  {
   "cell_type": "markdown",
   "metadata": {
    "deletable": true,
    "editable": true
   },
   "source": [
    "#### Print out the first 5 columns."
   ]
  },
  {
   "cell_type": "code",
   "execution_count": 114,
   "metadata": {
    "cell_status": {
     "execute_time": {
      "duration": 1177.1259765625,
      "end_time": 1666744304360.233
     }
    },
    "collapsed": false,
    "deletable": true,
    "editable": true
   },
   "outputs": [
    {
     "name": "stdout",
     "output_type": "stream",
     "text": [
      "[Row(Date='2016-12-23', Open=69.43, High=69.75, Low=69.360001, Close=69.540001, Volume=4803900, Adj Close=69.032411), Row(Date='2016-12-27', Open=69.300003, High=69.82, Low=69.25, Close=69.699997, Volume=4435700, Adj Close=69.19124000000001), Row(Date='2016-12-28', Open=69.940002, High=70.0, Low=69.260002, Close=69.309998, Volume=4875700, Adj Close=68.804087), Row(Date='2016-12-29', Open=69.209999, High=69.519997, Low=69.120003, Close=69.260002, Volume=4298400, Adj Close=68.754456), Row(Date='2016-12-30', Open=69.120003, High=69.43, Low=68.83000200000001, Close=69.120003, Volume=6889500, Adj Close=68.61547900000001)]"
     ]
    }
   ],
   "source": [
    "df.tail(5)"
   ]
  },
  {
   "cell_type": "markdown",
   "metadata": {
    "deletable": true,
    "editable": true
   },
   "source": [
    "#### Use describe() to learn about the DataFrame."
   ]
  },
  {
   "cell_type": "code",
   "execution_count": 25,
   "metadata": {
    "cell_status": {
     "execute_time": {
      "duration": 3331.6279296875,
      "end_time": 1666740265999.427
     }
    },
    "collapsed": false,
    "deletable": true,
    "editable": true
   },
   "outputs": [
    {
     "name": "stdout",
     "output_type": "stream",
     "text": [
      "+-------+----------+-----------------+-----------------+-----------------+-----------------+-----------------+-----------------+\n",
      "|summary|      Date|             Open|             High|              Low|            Close|           Volume|         AdjClose|\n",
      "+-------+----------+-----------------+-----------------+-----------------+-----------------+-----------------+-----------------+\n",
      "|  count|      1258|             1258|             1258|             1258|             1258|             1258|             1258|\n",
      "|   mean|      null|72.35785373608894|72.83938791732918|71.91860095389515|72.38844992050863|8222093.481717011|67.23871224165353|\n",
      "| stddev|      null| 6.76809037021648|6.768186744823553|6.744075695823193|6.756859155425468|  4519780.8431556|6.722615952565601|\n",
      "|    min|2012-01-03|            56.39|            57.06|             56.3|            56.42|        2094900.0|            50.36|\n",
      "|    max|2016-12-30|             90.8|            90.97|            89.25|            90.47|        8.08981E7|            84.91|\n",
      "+-------+----------+-----------------+-----------------+-----------------+-----------------+-----------------+-----------------+"
     ]
    }
   ],
   "source": [
    "df.describe().show()"
   ]
  },
  {
   "cell_type": "markdown",
   "metadata": {
    "deletable": true,
    "editable": true
   },
   "source": [
    "## Bonus Question!\n",
    "#### There are too many decimal places for mean and stddev in the describe() dataframe. Format the numbers to just show up to two decimal places. Pay careful attention to the datatypes that .describe() returns, we didn't cover how to do this exact formatting, but we covered something very similar. [Check this link for a hint](http://spark.apache.org/docs/latest/api/python/pyspark.sql.html#pyspark.sql.Column.cast)\n",
    "\n",
    "If you get stuck on this, don't worry, just view the solutions."
   ]
  },
  {
   "cell_type": "code",
   "execution_count": 119,
   "metadata": {
    "cell_status": {
     "execute_time": {
      "duration": 2600.712158203125,
      "end_time": 1666744428473.158
     }
    },
    "collapsed": false,
    "deletable": true,
    "editable": true
   },
   "outputs": [],
   "source": [
    "df1 = df.select(df.Open, df.High, df.Low,df.Close,df.Volume).describe()"
   ]
  },
  {
   "cell_type": "code",
   "execution_count": 120,
   "metadata": {
    "cell_status": {
     "execute_time": {
      "duration": 1004.43994140625,
      "end_time": 1666744433059.407
     }
    },
    "collapsed": false,
    "deletable": true,
    "editable": true
   },
   "outputs": [],
   "source": [
    "df1 = df1.withColumn('Open', round(df1.Open.cast(DoubleType()),2))\n",
    "df1 = df1.withColumn('High', round(df1.High.cast(DoubleType()),2))\n",
    "df1 = df1.withColumn('Low', round(df1.Low.cast(DoubleType()),2))\n",
    "df1 = df1.withColumn('Close', round(df1.Close.cast(DoubleType()),2))\n",
    "df1 = df1.withColumn('Volume', round(df1.Volume.cast(DoubleType()),2))"
   ]
  },
  {
   "cell_type": "code",
   "execution_count": 121,
   "metadata": {
    "cell_status": {
     "execute_time": {
      "duration": 693.06005859375,
      "end_time": 1666744434926.99
     }
    },
    "collapsed": false,
    "deletable": true,
    "editable": true
   },
   "outputs": [
    {
     "name": "stdout",
     "output_type": "stream",
     "text": [
      "+-------+------+------+------+------+----------+\n",
      "|summary|  Open|  High|   Low| Close|    Volume|\n",
      "+-------+------+------+------+------+----------+\n",
      "|  count|1258.0|1258.0|1258.0|1258.0|    1258.0|\n",
      "|   mean| 72.36| 72.84| 71.92| 72.39|8222093.48|\n",
      "| stddev|  6.77|  6.77|  6.74|  6.76|4519780.84|\n",
      "|    min| 56.39| 57.06|  56.3| 56.42| 2094900.0|\n",
      "|    max|  90.8| 90.97| 89.25| 90.47| 8.08981E7|\n",
      "+-------+------+------+------+------+----------+"
     ]
    }
   ],
   "source": [
    "df1.show()"
   ]
  },
  {
   "cell_type": "markdown",
   "metadata": {
    "deletable": true,
    "editable": true
   },
   "source": [
    "#### Create a new dataframe with a column called HV Ratio that is the ratio of the High Price versus volume of stock traded for a day."
   ]
  },
  {
   "cell_type": "code",
   "execution_count": 39,
   "metadata": {
    "cell_status": {
     "execute_time": {
      "duration": 1717.486083984375,
      "end_time": 1666740979941.446
     }
    },
    "collapsed": false,
    "deletable": true,
    "editable": true
   },
   "outputs": [
    {
     "name": "stdout",
     "output_type": "stream",
     "text": [
      "+--------------------+\n",
      "|            HV Ratio|\n",
      "+--------------------+\n",
      "|4.819714574387472E-6|\n",
      "|6.290848821573389...|\n",
      "|4.669413073103491E-6|\n",
      "|7.367338339901356E-6|\n",
      "|8.915604928660188E-6|\n",
      "|8.644477581688938E-6|\n",
      "| 9.35182857861003E-6|\n",
      "| 8.29141562102703E-6|\n",
      "|7.712211972623653E-6|\n",
      "|7.071764705882352...|\n",
      "|1.015495483303447...|\n",
      "|6.576354146362592...|\n",
      "| 5.90145296180676E-6|\n",
      "|8.547679455011844E-6|\n",
      "|8.420709512685392E-6|\n",
      "|1.041448324825044...|\n",
      "|8.316075414862431E-6|\n",
      "|9.721183974042911E-6|\n",
      "|8.029436027707578E-6|\n",
      "|6.307432259386365E-6|\n",
      "+--------------------+\n",
      "only showing top 20 rows"
     ]
    }
   ],
   "source": [
    "df2 = df.select((df.High/df.Volume).alias('HV Ratio'))\n",
    "df2.show()"
   ]
  },
  {
   "cell_type": "markdown",
   "metadata": {
    "deletable": true,
    "editable": true
   },
   "source": [
    "#### What day had the Peak High in Price?"
   ]
  },
  {
   "cell_type": "code",
   "execution_count": 107,
   "metadata": {
    "cell_status": {
     "execute_time": {
      "duration": 3325.511962890625,
      "end_time": 1666744145357.033
     }
    },
    "collapsed": false,
    "deletable": true,
    "editable": true
   },
   "outputs": [
    {
     "name": "stdout",
     "output_type": "stream",
     "text": [
      "+----------+\n",
      "|      Date|\n",
      "+----------+\n",
      "|2015-01-13|\n",
      "+----------+"
     ]
    }
   ],
   "source": [
    "val1 = df.select(max('High').alias('High'))\n",
    "df.join(val1,'High').select(df.Date).show()"
   ]
  },
  {
   "cell_type": "markdown",
   "metadata": {
    "deletable": true,
    "editable": true
   },
   "source": [
    "#### What is the mean of the Close column?"
   ]
  },
  {
   "cell_type": "code",
   "execution_count": 45,
   "metadata": {
    "cell_status": {
     "execute_time": {
      "duration": 3629.7451171875,
      "end_time": 1666741342786.779
     }
    },
    "collapsed": false,
    "deletable": true,
    "editable": true
   },
   "outputs": [
    {
     "name": "stdout",
     "output_type": "stream",
     "text": [
      "+-----------------+\n",
      "|       avg(Close)|\n",
      "+-----------------+\n",
      "|72.38844992050863|\n",
      "+-----------------+"
     ]
    }
   ],
   "source": [
    "df.select(mean('Close')).show()"
   ]
  },
  {
   "cell_type": "markdown",
   "metadata": {
    "deletable": true,
    "editable": true
   },
   "source": [
    "#### What is the max and min of the Volume column?"
   ]
  },
  {
   "cell_type": "code",
   "execution_count": 46,
   "metadata": {
    "cell_status": {
     "execute_time": {
      "duration": 2537.594970703125,
      "end_time": 1666741398326.159
     }
    },
    "collapsed": false,
    "deletable": true,
    "editable": true
   },
   "outputs": [
    {
     "name": "stdout",
     "output_type": "stream",
     "text": [
      "+-----------+-----------+\n",
      "|max(Volume)|min(Volume)|\n",
      "+-----------+-----------+\n",
      "|  8.08981E7|  2094900.0|\n",
      "+-----------+-----------+"
     ]
    }
   ],
   "source": [
    "df.select(max('Volume'),min('Volume')).show()"
   ]
  },
  {
   "cell_type": "markdown",
   "metadata": {
    "deletable": true,
    "editable": true
   },
   "source": [
    "#### How many days was the Close lower than 60 dollars?"
   ]
  },
  {
   "cell_type": "code",
   "execution_count": 96,
   "metadata": {
    "cell_status": {
     "execute_time": {
      "duration": 3255.966064453125,
      "end_time": 1666743768501.914
     }
    },
    "collapsed": false,
    "deletable": true,
    "editable": true
   },
   "outputs": [
    {
     "name": "stdout",
     "output_type": "stream",
     "text": [
      "+--------------+\n",
      "|Number of Days|\n",
      "+--------------+\n",
      "|            81|\n",
      "+--------------+"
     ]
    }
   ],
   "source": [
    "df3 = df.filter(df.Close.cast(DoubleType()) < 60).select(count('Date').alias('Number of Days'))\n",
    "df3.show()"
   ]
  },
  {
   "cell_type": "markdown",
   "metadata": {
    "deletable": true,
    "editable": true
   },
   "source": [
    "#### What percentage of the time was the High greater than 80 dollars ?\n",
    "#### In other words, (Number of Days High>80)/(Total Days in the dataset)"
   ]
  },
  {
   "cell_type": "code",
   "execution_count": 97,
   "metadata": {
    "cell_status": {
     "execute_time": {
      "duration": 3324.10888671875,
      "end_time": 1666743779953.703
     }
    },
    "collapsed": false,
    "deletable": true,
    "editable": true
   },
   "outputs": [
    {
     "name": "stdout",
     "output_type": "stream",
     "text": [
      "+-----------------+\n",
      "|       Percentage|\n",
      "+-----------------+\n",
      "|9.141494435612083|\n",
      "+-----------------+"
     ]
    }
   ],
   "source": [
    "dfHigh80 = df.filter(df.High.cast(DoubleType()) > 80).select(count('Date').alias('Days80'))\n",
    "dfTotal = df.select(count('Date').alias('Total'))\n",
    "df4 = dfHigh80.crossJoin(dfTotal)\n",
    "df4.select((col('Days80')/col('Total')*100).alias('Percentage')).show()"
   ]
  },
  {
   "cell_type": "markdown",
   "metadata": {
    "deletable": true,
    "editable": true
   },
   "source": [
    "#### What is the Pearson correlation between High and Volume?\n",
    "#### [Hint](http://spark.apache.org/docs/latest/api/python/pyspark.sql.html#pyspark.sql.DataFrameStatFunctions.corr)"
   ]
  },
  {
   "cell_type": "code",
   "execution_count": 74,
   "metadata": {
    "cell_status": {
     "execute_time": {
      "duration": 2644.822021484375,
      "end_time": 1666742926657.4
     }
    },
    "collapsed": false,
    "deletable": true,
    "editable": true
   },
   "outputs": [
    {
     "name": "stdout",
     "output_type": "stream",
     "text": [
      "+--------------------+\n",
      "|  corr(High, Volume)|\n",
      "+--------------------+\n",
      "|-0.33843260582148915|\n",
      "+--------------------+"
     ]
    }
   ],
   "source": [
    "df.select(corr('High','Volume')).show()"
   ]
  },
  {
   "cell_type": "markdown",
   "metadata": {
    "deletable": true,
    "editable": true
   },
   "source": [
    "#### What is the max High per year?"
   ]
  },
  {
   "cell_type": "code",
   "execution_count": 98,
   "metadata": {
    "cell_status": {
     "execute_time": {
      "duration": 15796.2041015625,
      "end_time": 1666743814469.809
     }
    },
    "collapsed": false,
    "deletable": true,
    "editable": true
   },
   "outputs": [
    {
     "name": "stdout",
     "output_type": "stream",
     "text": [
      "+----+---------+\n",
      "|Year|max(High)|\n",
      "+----+---------+\n",
      "|2012|77.599998|\n",
      "|2013|81.370003|\n",
      "|2014|88.089996|\n",
      "|2015|90.970001|\n",
      "|2016|75.190002|\n",
      "+----+---------+"
     ]
    }
   ],
   "source": [
    "df5 = df.withColumn('Year',year(to_date(col(\"Date\"),\"yyyy-mm-dd\"))).groupBy('Year').max('High').sort('Year')\n",
    "df5.show()"
   ]
  },
  {
   "cell_type": "markdown",
   "metadata": {
    "deletable": true,
    "editable": true
   },
   "source": [
    "#### What is the average Close for each Calendar Month?\n",
    "#### In other words, across all the years, what is the average Close price for Jan,Feb, Mar, etc... Your result will have a value for each of these months. "
   ]
  },
  {
   "cell_type": "code",
   "execution_count": 124,
   "metadata": {
    "cell_status": {
     "execute_time": {
      "duration": 13489.830078125,
      "end_time": 1666744573687.707
     }
    },
    "collapsed": false,
    "deletable": true,
    "editable": true
   },
   "outputs": [
    {
     "name": "stdout",
     "output_type": "stream",
     "text": [
      "+-----+-----------------+\n",
      "|Month|       avg(Close)|\n",
      "+-----+-----------------+\n",
      "|    1|71.44801958415842|\n",
      "|    2|  71.306804443299|\n",
      "|    3|71.77794377570092|\n",
      "|    4|72.97361900952382|\n",
      "|    5|72.30971688679247|\n",
      "|    6| 72.4953774245283|\n",
      "|    7|74.43971943925233|\n",
      "|    8|73.02981855454546|\n",
      "|    9|72.18411785294116|\n",
      "|   10|71.57854545454543|\n",
      "|   11| 72.1110893069307|\n",
      "|   12|72.84792478301885|\n",
      "+-----+-----------------+"
     ]
    }
   ],
   "source": [
    "df6 = df.withColumn('Date',to_date(col(\"Date\"),\"yyyy-mm-dd\"))\n",
    "df6 = df.withColumn('Month',date_format('Date','M'))\n",
    "df7 = df6.groupBy('Month').avg('Close').sort(df6.Month.cast(IntegerType()))\n",
    "df7.show()"
   ]
  },
  {
   "cell_type": "markdown",
   "metadata": {
    "deletable": true,
    "editable": true
   },
   "source": [
    "# Great Job!"
   ]
  }
 ],
 "metadata": {
  "anaconda-cloud": {},
  "kernelspec": {
   "display_name": "PySpark3",
   "language": "",
   "name": "pyspark3kernel"
  },
  "language_info": {
   "codemirror_mode": {
    "name": "python",
    "version": 3
   },
   "mimetype": "text/x-python",
   "name": "pyspark3",
   "pygments_lexer": "python3"
  }
 },
 "nbformat": 4,
 "nbformat_minor": 0
}